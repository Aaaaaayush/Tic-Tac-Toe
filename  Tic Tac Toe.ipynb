{
 "cells": [
  {
   "cell_type": "code",
   "execution_count": 2,
   "id": "e281ab16",
   "metadata": {},
   "outputs": [],
   "source": [
    "def sum(a, b, c):\n",
    "    return a + b + c\n",
    "\n",
    "def printBoard(xState,zState):\n",
    "    zero = 'X' if xState[0] else 'O' if zState[0] else 0\n",
    "    one = 'X' if xState[1] else 'O' if zState[1] else 1\n",
    "    two = 'X' if xState[2] else 'O' if zState[2] else 2\n",
    "    three = 'X' if xState[3] else 'O' if zState[3] else 3\n",
    "    four = 'X' if xState[4] else 'O' if zState[4] else 4\n",
    "    five = 'X' if xState[5] else 'O' if zState[5] else 5\n",
    "    six = 'X' if xState[6] else 'O' if zState[6] else 6\n",
    "    seven = 'X' if xState[7] else 'O' if zState[7] else 7\n",
    "    eight = 'X' if xState[8] else 'O' if zState[8] else 8\n",
    "    \n",
    "    print(f\" {zero} | {one} | {two}  \")\n",
    "    print(\"---|---|---\")\n",
    "    print(f\" {three} | {four} | {five} \")\n",
    "    print(\"---|---|---\")\n",
    "    print(f\" {six} | {seven} | {eight} \")        "
   ]
  },
  {
   "cell_type": "code",
   "execution_count": 3,
   "id": "729bb454",
   "metadata": {},
   "outputs": [],
   "source": [
    " def checkWin(xState, zState): \n",
    "    wins = [[0, 1, 2], [3, 4, 5], [6, 7, 8], [0, 3, 6], [1, 4, 7], [2, 5, 8], [0, 4, 8], [2, 4, 6]]\n",
    "    for win in wins:\n",
    "        if(sum(xState[win[0]], xState[win[1]], xState[win[2]]) == 3):\n",
    "            print(\"X Won the match\")\n",
    "            return 1\n",
    "        if(sum(zState[win[0]], xState[win[1]], xState[win[2]]) == 3):\n",
    "            print(\"O Won the match\")\n",
    "            return 0\n",
    "    return -1"
   ]
  },
  {
   "cell_type": "code",
   "execution_count": 4,
   "id": "c559ae55",
   "metadata": {},
   "outputs": [
    {
     "name": "stdout",
     "output_type": "stream",
     "text": [
      "Welcome to Tic Tac Toe\n",
      " 0 | 1 | 2  \n",
      "---|---|---\n",
      " 3 | 4 | 5 \n",
      "---|---|---\n",
      " 6 | 7 | 8 \n",
      "Chance of X\n",
      "Please enter a value: 2\n",
      " 0 | 1 | X  \n",
      "---|---|---\n",
      " 3 | 4 | 5 \n",
      "---|---|---\n",
      " 6 | 7 | 8 \n",
      "Chance of Z\n",
      "Please enter a value: 0\n",
      " O | 1 | X  \n",
      "---|---|---\n",
      " 3 | 4 | 5 \n",
      "---|---|---\n",
      " 6 | 7 | 8 \n",
      "Chance of X\n",
      "Please enter a value: 5\n",
      " O | 1 | X  \n",
      "---|---|---\n",
      " 3 | 4 | X \n",
      "---|---|---\n",
      " 6 | 7 | 8 \n",
      "Chance of Z\n",
      "Please enter a value: 6\n",
      " O | 1 | X  \n",
      "---|---|---\n",
      " 3 | 4 | X \n",
      "---|---|---\n",
      " O | 7 | 8 \n",
      "Chance of X\n",
      "Please enter a value: 8\n",
      "X Won the match\n",
      "Match Over\n"
     ]
    }
   ],
   "source": [
    "if __name__==\"__main__\":\n",
    "    xState = [0, 0, 0, 0, 0, 0, 0, 0, 0]\n",
    "    zState = [0, 0, 0, 0, 0, 0, 0, 0, 0]\n",
    "    turn = 1 # 1 for X and 0 for z\n",
    "    print(\"Welcome to Tic Tac Toe\")\n",
    "    while(True):\n",
    "        printBoard(xState,zState)\n",
    "        if(turn == 1):\n",
    "            print(\"Chance of X\") \n",
    "            value = int(input(\"Please enter a value: \"))\n",
    "            xState[value] = 1\n",
    "        else:\n",
    "            print(\"Chance of Z\") \n",
    "            value = int(input(\"Please enter a value: \"))\n",
    "            zState[value] = 1\n",
    "        cwin = checkWin(xState, zState)\n",
    "        if(cwin != -1):\n",
    "            print(\"Match Over\")\n",
    "            break\n",
    "        turn = 1 - turn\n",
    "        "
   ]
  },
  {
   "cell_type": "code",
   "execution_count": null,
   "id": "85e9796a",
   "metadata": {},
   "outputs": [],
   "source": []
  }
 ],
 "metadata": {
  "kernelspec": {
   "display_name": "Python 3 (ipykernel)",
   "language": "python",
   "name": "python3"
  },
  "language_info": {
   "codemirror_mode": {
    "name": "ipython",
    "version": 3
   },
   "file_extension": ".py",
   "mimetype": "text/x-python",
   "name": "python",
   "nbconvert_exporter": "python",
   "pygments_lexer": "ipython3",
   "version": "3.9.12"
  }
 },
 "nbformat": 4,
 "nbformat_minor": 5
}
